{
 "cells": [
  {
   "cell_type": "code",
   "execution_count": 12,
   "id": "41313724-0ba5-49fa-8824-806e8ab1f08d",
   "metadata": {},
   "outputs": [
    {
     "name": "stdout",
     "output_type": "stream",
     "text": [
      "녹화 시작\n",
      "녹화 종료\n",
      "녹화 시작\n",
      "녹화 종료\n",
      "녹화 시작\n",
      "녹화 종료\n",
      "녹화 시작\n",
      "녹화 종료\n"
     ]
    }
   ],
   "source": [
    "import cv2\n",
    "\n",
    "\n",
    "recording = False\n",
    "\n",
    "cap = cv2.VideoCapture(0)\n",
    "\n",
    "output_file = 'recorded_video.avi'\n",
    "\n",
    "\n",
    "frame_width = 640\n",
    "frame_height = 480\n",
    "fps = 24.0\n",
    "\n",
    "\n",
    "while True:\n",
    "    ret, frame = cap.read()\n",
    "    \n",
    "    if ret:\n",
    "\n",
    "        if recording:\n",
    "            cv2.circle(frame, (30, 30), 10, (0, 0, 255), -1)\n",
    "\n",
    "        else:\n",
    "            cv2.circle(frame, (30, 30), 10, (0, 255, 0), -1)\n",
    "            cv2.putText(frame, f\"FPS:{fps}\", (250, 30), cv2.FONT_HERSHEY_SIMPLEX, 1, (255, 255, 255), 2, cv2.LINE_AA)\n",
    "\n",
    "            if key == ord('d') and fps > 1:\n",
    "                fps = fps - 1\n",
    "\n",
    "            if key == ord('u'):\n",
    "                fps = fps + 1\n",
    "        \n",
    "        cv2.imshow('frame', frame)\n",
    "        \n",
    "\n",
    "        key = cv2.waitKey(1)\n",
    "        if key == ord(' '):\n",
    "            recording = not recording\n",
    "            if recording:\n",
    "                print(\"녹화 시작\")\n",
    "                out = cv2.VideoWriter(output_file, cv2.VideoWriter_fourcc(*'XVID'), fps, (frame_width, frame_height))\n",
    "            else:\n",
    "                print(\"녹화 종료\")\n",
    "                \n",
    "                out.release()\n",
    "\n",
    "        if recording:\n",
    "            out.write(frame)\n",
    "        \n",
    "\n",
    "        if key == 27:\n",
    "            break\n",
    "    else:\n",
    "        break\n",
    "\n",
    "cap.release()\n",
    "cv2.destroyAllWindows()"
   ]
  }
 ],
 "metadata": {
  "kernelspec": {
   "display_name": "Python 3 (ipykernel)",
   "language": "python",
   "name": "python3"
  },
  "language_info": {
   "codemirror_mode": {
    "name": "ipython",
    "version": 3
   },
   "file_extension": ".py",
   "mimetype": "text/x-python",
   "name": "python",
   "nbconvert_exporter": "python",
   "pygments_lexer": "ipython3",
   "version": "3.11.7"
  }
 },
 "nbformat": 4,
 "nbformat_minor": 5
}
